{
 "cells": [
  {
   "cell_type": "markdown",
   "metadata": {},
   "source": [
    "# Capstone Project - The Battle of the Neighborhoods"
   ]
  },
  {
   "cell_type": "markdown",
   "metadata": {},
   "source": [
    "## Introduction: Business Problem <a name=\"introduction\"></a>"
   ]
  },
  {
   "cell_type": "markdown",
   "metadata": {},
   "source": [
    "The city of Shanghai is becoming a top business and tourist destination for travelers worldwide. It is a global financial center and the largest city in China, consisting of 16 districts and 210 towns, with a population of 24 million as of 2018. This project aims to leverage the Foursquare location data to explore top places of interest by district in the city of Shanghai, China. The results should serve as a practical travel guide for both domestic and foreign visitors of Shanghai. The intended audience would also include potential business stakeholders looking to open new businesses, such as restaurants, cafés and shopping malls, in the greater metropolitan area of Shanghai."
   ]
  },
  {
   "cell_type": "markdown",
   "metadata": {},
   "source": [
    "## Data <a name=\"data\"></a>"
   ]
  },
  {
   "cell_type": "markdown",
   "metadata": {},
   "source": [
    "The data to be used in the project include the following:\n",
    "\n",
    "* district names of Shanghai\n",
    "* coordinates of each district\n",
    "* Foursquare location data such as restaurants, bars, hotels, shops, shopping malls and parks\n",
    "\n",
    "Based on Foursquare location data, we will use the coordinates of each district in Shanghai to find top places of interest within a specific radius in each district. We will then cluster the districts into 5 clusters and present the top 10 venues for each district to travelers."
   ]
  },
  {
   "cell_type": "code",
   "execution_count": null,
   "metadata": {},
   "outputs": [],
   "source": []
  }
 ],
 "metadata": {
  "kernelspec": {
   "display_name": "Python 3",
   "language": "python",
   "name": "python3"
  },
  "language_info": {
   "codemirror_mode": {
    "name": "ipython",
    "version": 3
   },
   "file_extension": ".py",
   "mimetype": "text/x-python",
   "name": "python",
   "nbconvert_exporter": "python",
   "pygments_lexer": "ipython3",
   "version": "3.6.6"
  }
 },
 "nbformat": 4,
 "nbformat_minor": 2
}
